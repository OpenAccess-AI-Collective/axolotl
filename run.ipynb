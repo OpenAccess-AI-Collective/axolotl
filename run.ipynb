{
 "cells": [
  {
   "cell_type": "code",
   "execution_count": null,
   "id": "d09e05df-edab-431d-ad58-5bdf03918180",
   "metadata": {},
   "outputs": [],
   "source": [
    "!pip3 install --ignore-installed \"axolotl[flash-attn,deepspeed] @ git+https://github.com/OpenAccess-AI-Collective/axolotl\""
   ]
  },
  {
   "cell_type": "code",
   "execution_count": null,
   "id": "b2de6b13-0430-4bac-b64a-bc09c1acd30b",
   "metadata": {},
   "outputs": [],
   "source": [
    "!git clone https://github.com/code-x-0018/axolotl"
   ]
  },
  {
   "cell_type": "code",
   "execution_count": null,
   "id": "27811007-d12d-4346-b755-0518c69f682a",
   "metadata": {},
   "outputs": [],
   "source": [
    "cd src"
   ]
  },
  {
   "cell_type": "code",
   "execution_count": null,
   "id": "6542a9e9-e795-43f1-913b-558c8639c0d6",
   "metadata": {},
   "outputs": [],
   "source": [
    "pwd"
   ]
  },
  {
   "cell_type": "code",
   "execution_count": null,
   "id": "bab47cd5-4a4a-400e-86bb-7d6c6e764458",
   "metadata": {},
   "outputs": [],
   "source": [
    "import torch\n",
    "from huggingface_hub import HfFolder, snapshot_download\n",
    "import wandb"
   ]
  },
  {
   "cell_type": "code",
   "execution_count": null,
   "id": "184ab85f-478b-4a0b-a3a1-4c38c2f02abc",
   "metadata": {},
   "outputs": [],
   "source": [
    "hf_token = \"\"\n",
    "hf_folder = HfFolder()\n",
    "hf_folder.save_token(hf_token)\n",
    "\n",
    "wandb.login(key=\"\")\n",
    "\n",
    "available_gpus = torch.cuda.device_count()\n",
    "print(\"available_gpus - \", available_gpus)"
   ]
  },
  {
   "cell_type": "code",
   "execution_count": null,
   "id": "1b425e38-dba3-44b1-8d17-b86794df0381",
   "metadata": {},
   "outputs": [],
   "source": [
    "CUDA_VISIBLE_DEVICES=\"\""
   ]
  },
  {
   "cell_type": "code",
   "execution_count": null,
   "id": "59fe40d4-3c15-4d9a-a483-1f9a463d05ad",
   "metadata": {},
   "outputs": [],
   "source": [
    "## preprocess datasets\n",
    "\n",
    "!python -m axolotl.cli.preprocess ../examples/mistral/config.yml"
   ]
  },
  {
   "cell_type": "code",
   "execution_count": null,
   "id": "36e6f32a-5685-4f9b-a6cb-c4aeb30d2ab7",
   "metadata": {},
   "outputs": [],
   "source": [
    "## finetune datasets\n",
    "\n",
    "!accelerate launch -m axolotl.cli.train ../examples/mistral/config.yml"
   ]
  }
 ],
 "metadata": {
  "kernelspec": {
   "display_name": "Python 3 (ipykernel)",
   "language": "python",
   "name": "python3"
  },
  "language_info": {
   "codemirror_mode": {
    "name": "ipython",
    "version": 3
   },
   "file_extension": ".py",
   "mimetype": "text/x-python",
   "name": "python",
   "nbconvert_exporter": "python",
   "pygments_lexer": "ipython3",
   "version": "3.10.12"
  }
 },
 "nbformat": 4,
 "nbformat_minor": 5
}
